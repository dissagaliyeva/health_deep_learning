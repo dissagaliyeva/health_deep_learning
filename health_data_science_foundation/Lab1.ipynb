{
 "cells": [
  {
   "cell_type": "markdown",
   "id": "f624fc56-2b40-4e45-a9fe-04ac480db4dd",
   "metadata": {},
   "source": [
    "# Lab 1: Getting started with PyTorch\n",
    "\n",
    "The first lab to introduce PyTorch basics including `Tensor`, `Loss`, and `Adagrad`. "
   ]
  },
  {
   "cell_type": "code",
   "execution_count": 8,
   "id": "4cebf341-41b8-4cd6-a83c-54c50785ad90",
   "metadata": {},
   "outputs": [],
   "source": [
    "import os\n",
    "import torch\n",
    "import numpy as np\n",
    "import random\n",
    "import matplotlib.pyplot as plt"
   ]
  },
  {
   "cell_type": "code",
   "execution_count": 9,
   "id": "a58228f5-0563-4dc6-9bbe-066a25222565",
   "metadata": {},
   "outputs": [],
   "source": [
    "# set seed\n",
    "seed = 42\n",
    "random.seed(seed)\n",
    "np.random.seed(seed)\n",
    "torch.manual_seed(seed)\n",
    "os.environ['PYTHONHASHSEED'] = str(seed)"
   ]
  },
  {
   "cell_type": "markdown",
   "id": "d502d7f5-20da-4cde-8c39-cdc63079b0fa",
   "metadata": {},
   "source": [
    "## 1. Tensors\n",
    "\n",
    "Tensors are a specialized data structure that are very similar to arrays and matrices. In PyTorch, we use tensors to encode the inputs and outputs of a model, as well as the model’s parameters.\n",
    "\n",
    "Tensors are similar to NumPy’s ndarrays, except that tensors can run on GPUs or other hardware accelerators. Tensors are also optimized for automatic differentiation (we’ll see more about that later in the Autograd section). "
   ]
  },
  {
   "cell_type": "markdown",
   "id": "98a5f5a2-d686-43a9-afa9-a3bbbe90f8d3",
   "metadata": {},
   "source": [
    "### 1.1 Initializing a Tensor\n",
    "\n",
    "Tensors can be initialized in various ways. Take a look at the following examples:"
   ]
  },
  {
   "cell_type": "markdown",
   "id": "d0717e8a-3368-4bd7-9f2b-948e645a9411",
   "metadata": {},
   "source": [
    "**Directly from data**\n",
    "\n",
    "Tensors can be created directly from data. The data type is automatically inferred."
   ]
  },
  {
   "cell_type": "code",
   "execution_count": 10,
   "id": "21af4757-4d06-4f92-a14a-c7fdf8c4f2f5",
   "metadata": {},
   "outputs": [
    {
     "data": {
      "text/plain": [
       "tensor([[1, 2],\n",
       "        [3, 4]])"
      ]
     },
     "execution_count": 10,
     "metadata": {},
     "output_type": "execute_result"
    }
   ],
   "source": [
    "data = [[1, 2], [3, 4]]\n",
    "x_data = torch.tensor(data)\n",
    "x_data"
   ]
  },
  {
   "cell_type": "markdown",
   "id": "a20f4726-7982-42ac-a52e-68d367c116e8",
   "metadata": {},
   "source": [
    "**From a NumPy array**\n",
    "\n",
    "Tensors can be created from NumPy arrays (and vice versa)."
   ]
  },
  {
   "cell_type": "code",
   "execution_count": 11,
   "id": "dfea29f6-45f7-483d-af9b-965ea87a101d",
   "metadata": {},
   "outputs": [
    {
     "data": {
      "text/plain": [
       "tensor([[1, 2],\n",
       "        [3, 4]])"
      ]
     },
     "execution_count": 11,
     "metadata": {},
     "output_type": "execute_result"
    }
   ],
   "source": [
    "np_array = np.array(data)\n",
    "x_np = torch.from_numpy(np_array)\n",
    "x_np"
   ]
  },
  {
   "cell_type": "markdown",
   "id": "419cdb76-27e1-43b5-88f4-a3078465a5c6",
   "metadata": {},
   "source": [
    "**From another tensor:**\n",
    "\n",
    "The new tensor retains the properties (shape, datatype) of the argument tensor, unless explicitly overridden."
   ]
  },
  {
   "cell_type": "code",
   "execution_count": 12,
   "id": "6437c5d4-f690-4a9a-8e77-86375e44898b",
   "metadata": {},
   "outputs": [
    {
     "name": "stdout",
     "output_type": "stream",
     "text": [
      "Ones Tensor: \n",
      " tensor([[1, 1],\n",
      "        [1, 1]]) \n",
      "\n",
      "Random Tensor: \n",
      " tensor([[0.8823, 0.9150],\n",
      "        [0.3829, 0.9593]]) \n",
      "\n"
     ]
    }
   ],
   "source": [
    "x_ones = torch.ones_like(x_data) # retains the properties of x_data\n",
    "print(f\"Ones Tensor: \\n {x_ones} \\n\")\n",
    "\n",
    "x_rand = torch.rand_like(x_data, dtype=torch.float) # overrides the datatype of x_data\n",
    "print(f\"Random Tensor: \\n {x_rand} \\n\")"
   ]
  },
  {
   "cell_type": "markdown",
   "id": "5e97ff26-4a41-4545-ba7f-5b11529eff16",
   "metadata": {},
   "source": [
    "**With random or constant values:**\n",
    "\n",
    "``shape`` is a tuple of tensor dimensions. In the functions below, it determines the dimensionality of the output tensor."
   ]
  },
  {
   "cell_type": "code",
   "execution_count": 13,
   "id": "38d8574c-35dc-407d-a173-d14f8735568e",
   "metadata": {},
   "outputs": [
    {
     "name": "stdout",
     "output_type": "stream",
     "text": [
      "Random tensor: tensor([[0.3904, 0.6009, 0.2566],\n",
      "        [0.7936, 0.9408, 0.1332]])\n",
      "Ones tensor: tensor([[1., 1., 1.],\n",
      "        [1., 1., 1.]])\n",
      "Zeros tensor: tensor([[0., 0., 0.],\n",
      "        [0., 0., 0.]])\n"
     ]
    }
   ],
   "source": [
    "shape = (2, 3)\n",
    "rand_tensor = torch.rand(shape)\n",
    "ones_tensor = torch.ones(shape)\n",
    "zero_tensor = torch.zeros(shape)\n",
    "\n",
    "print(f'Random tensor: {rand_tensor}')\n",
    "print(f'Ones tensor: {ones_tensor}')\n",
    "print(f'Zeros tensor: {zero_tensor}')"
   ]
  },
  {
   "cell_type": "markdown",
   "id": "0ae3e3e3-1533-448f-aafe-b3aa42ddac98",
   "metadata": {},
   "source": [
    "### 1.2 Attributes of a Tensor\n",
    "\n",
    "Tensor attributes describe their shape, datatype, and the device on which they are stored."
   ]
  },
  {
   "cell_type": "code",
   "execution_count": 14,
   "id": "3863d0c2-cdbf-46d4-bd18-fa8edd012b4a",
   "metadata": {},
   "outputs": [
    {
     "name": "stdout",
     "output_type": "stream",
     "text": [
      "Tensor shape: torch.Size([3, 4])\n",
      "Datatype: torch.float32\n",
      "Device tensor is stored on: cpu\n"
     ]
    }
   ],
   "source": [
    "tensor = torch.rand(3, 4)\n",
    "\n",
    "print('Tensor shape:', tensor.shape)\n",
    "print('Datatype:', tensor.dtype)\n",
    "print('Device tensor is stored on:', tensor.device)"
   ]
  },
  {
   "cell_type": "markdown",
   "id": "03532a82-893e-419c-9c60-315913c240ec",
   "metadata": {},
   "source": [
    "### 1.3 Operations on Tensors\n",
    "\n",
    "Over 100 tensor operations, including arithmetic, linear algebra, matrix manipulation (transposing, \n",
    "indexing, slicing), sampling and more are\n",
    "comprehensively described [here](https://pytorch.org/docs/stable/torch.html)."
   ]
  },
  {
   "cell_type": "code",
   "execution_count": 15,
   "id": "9783c2fa-917d-4169-801d-295b076b4ef2",
   "metadata": {},
   "outputs": [
    {
     "name": "stdout",
     "output_type": "stream",
     "text": [
      "tensor([[ 0.,  1.,  2.,  3.],\n",
      "        [ 4.,  5.,  6.,  7.],\n",
      "        [ 8.,  9., 10., 11.]])\n",
      "First row: tensor([0., 1., 2., 3.])\n",
      "First column: tensor([0., 4., 8.])\n",
      "Last column: tensor([ 3.,  7., 11.])\n"
     ]
    }
   ],
   "source": [
    "tensor = torch.arange(12).reshape(3, 4).float()\n",
    "\n",
    "print(tensor)\n",
    "print('First row:', tensor[0])\n",
    "print('First column:', tensor[:, 0])\n",
    "print('Last column:', tensor[:, -1])"
   ]
  },
  {
   "cell_type": "markdown",
   "id": "97f51309-34ac-4d50-9b48-5e432a1b9b42",
   "metadata": {},
   "source": [
    "**Joining tensors** \n",
    "\n",
    "You can use ``torch.cat`` to concatenate a sequence of tensors along a given dimension.\n",
    "See also [`torch.stack`](https://pytorch.org/docs/stable/generated/torch.stack.html),\n",
    "another tensor joining op that is subtly different from ``torch.cat``.\n"
   ]
  },
  {
   "cell_type": "code",
   "execution_count": 16,
   "id": "480d6a83-6e62-4c8b-9610-7417a66ae7f2",
   "metadata": {},
   "outputs": [
    {
     "data": {
      "text/plain": [
       "tensor([[ 0.,  1.,  2.,  3.,  0.,  1.,  2.,  3.,  0.,  1.,  2.,  3.],\n",
       "        [ 4.,  5.,  6.,  7.,  4.,  5.,  6.,  7.,  4.,  5.,  6.,  7.],\n",
       "        [ 8.,  9., 10., 11.,  8.,  9., 10., 11.,  8.,  9., 10., 11.]])"
      ]
     },
     "execution_count": 16,
     "metadata": {},
     "output_type": "execute_result"
    }
   ],
   "source": [
    "t1 = torch.cat([tensor, tensor, tensor], dim=1)\n",
    "t1"
   ]
  },
  {
   "cell_type": "code",
   "execution_count": 17,
   "id": "f16483ff-e3e3-4124-9536-2d4780cb4936",
   "metadata": {},
   "outputs": [
    {
     "data": {
      "text/plain": [
       "tensor([[ 0.,  1.,  2.,  3.],\n",
       "        [ 4.,  5.,  6.,  7.],\n",
       "        [ 8.,  9., 10., 11.],\n",
       "        [ 0.,  1.,  2.,  3.],\n",
       "        [ 4.,  5.,  6.,  7.],\n",
       "        [ 8.,  9., 10., 11.],\n",
       "        [ 0.,  1.,  2.,  3.],\n",
       "        [ 4.,  5.,  6.,  7.],\n",
       "        [ 8.,  9., 10., 11.]])"
      ]
     },
     "execution_count": 17,
     "metadata": {},
     "output_type": "execute_result"
    }
   ],
   "source": [
    "t1 = torch.cat([tensor, tensor, tensor], dim=0)\n",
    "t1"
   ]
  },
  {
   "cell_type": "markdown",
   "id": "077bac26-7665-4f57-a0d8-8b2334c6cbb6",
   "metadata": {},
   "source": [
    "#### Arithmetic operators"
   ]
  },
  {
   "cell_type": "code",
   "execution_count": 19,
   "id": "6b53c831-a3dd-42f3-8883-042fcf54c3c0",
   "metadata": {},
   "outputs": [
    {
     "name": "stdout",
     "output_type": "stream",
     "text": [
      "tensor([[ 14.,  38.,  62.],\n",
      "        [ 38., 126., 214.],\n",
      "        [ 62., 214., 366.]])\n",
      "tensor([[ 14.,  38.,  62.],\n",
      "        [ 38., 126., 214.],\n",
      "        [ 62., 214., 366.]])\n"
     ]
    },
    {
     "name": "stderr",
     "output_type": "stream",
     "text": [
      "/tmp/ipykernel_8098/159678247.py:9: UserWarning: An output with one or more elements was resized since it had shape [3, 4], which does not match the required output shape [3, 3]. This behavior is deprecated, and in a future PyTorch release outputs will not be resized unless they have zero elements. You can explicitly reuse an out tensor t by resizing it, inplace, to zero elements with t.resize_(0). (Triggered internally at ../aten/src/ATen/native/Resize.cpp:26.)\n",
      "  torch.matmul(tensor, tensor.T, out=y3)\n"
     ]
    },
    {
     "data": {
      "text/plain": [
       "tensor([[ 14.,  38.,  62.],\n",
       "        [ 38., 126., 214.],\n",
       "        [ 62., 214., 366.]])"
      ]
     },
     "execution_count": 19,
     "metadata": {},
     "output_type": "execute_result"
    }
   ],
   "source": [
    "# This computes the matrix multiplication between two tensors. y1, y2, y3 will have the same value\n",
    "y1 = tensor @ tensor.T\n",
    "print(y1)\n",
    "\n",
    "y2 = tensor.matmul(tensor.T)\n",
    "print(y2)\n",
    "\n",
    "y3 = torch.rand_like(tensor)\n",
    "torch.matmul(tensor, tensor.T, out=y3)\n",
    "y3"
   ]
  },
  {
   "cell_type": "code",
   "execution_count": 20,
   "id": "184cb052-1f51-4daf-94c0-6fd9ea642aca",
   "metadata": {},
   "outputs": [
    {
     "name": "stdout",
     "output_type": "stream",
     "text": [
      "tensor([[  0.,   1.,   4.,   9.],\n",
      "        [ 16.,  25.,  36.,  49.],\n",
      "        [ 64.,  81., 100., 121.]])\n",
      "tensor([[  0.,   1.,   4.,   9.],\n",
      "        [ 16.,  25.,  36.,  49.],\n",
      "        [ 64.,  81., 100., 121.]])\n",
      "tensor([[  0.,   1.,   4.,   9.],\n",
      "        [ 16.,  25.,  36.,  49.],\n",
      "        [ 64.,  81., 100., 121.]])\n"
     ]
    }
   ],
   "source": [
    "# This computes the element-wise product. z1, z2, z3 will have the same value\n",
    "z1 = tensor * tensor\n",
    "print(z1)\n",
    "z2 = tensor.mul(tensor)\n",
    "print(z2)\n",
    "z3 = torch.rand_like(tensor)\n",
    "torch.mul(tensor, tensor, out=z3)\n",
    "print(z3)"
   ]
  },
  {
   "cell_type": "markdown",
   "id": "c1ee09e8-162f-4b1c-9077-20aeb06a4f2e",
   "metadata": {},
   "source": [
    "**Single-element tensors** \n",
    "\n",
    "If you have a one-element tensor, for example by aggregating all\n",
    "values of a tensor into one value, you can convert it to a Python\n",
    "numerical value using ``item()``:"
   ]
  },
  {
   "cell_type": "code",
   "execution_count": 21,
   "id": "8ed74786-05e8-410d-8ccc-b1b21a7cd1b2",
   "metadata": {},
   "outputs": [
    {
     "name": "stdout",
     "output_type": "stream",
     "text": [
      "66.0 <class 'float'>\n"
     ]
    }
   ],
   "source": [
    "agg = tensor.sum()\n",
    "agg_item = agg.item()  \n",
    "print(agg_item, type(agg_item))"
   ]
  },
  {
   "cell_type": "markdown",
   "id": "6dac8dce-47d5-4378-9aad-f78b4ea306b7",
   "metadata": {},
   "source": [
    "### 1.4 GPU Acceleration\n",
    "\n",
    "If we have NVIDIA GPU(s), we can accelerate computation once we move Tensors onto GPU.\n",
    "Let's compare how much GPU can accelerate especially matrix operations.\n",
    "We will do a matrix-matrix multiplication between two 5k-by-5k matrices on both CPU and GPU.\n",
    "\n",
    "Unfortunately, Coursera does not have a GPU environment. But feel free to try the following snippets on a GPU machine. Ideally, with GPU acceleration, matrix multiplication will be much faster."
   ]
  },
  {
   "cell_type": "code",
   "execution_count": 22,
   "id": "335f4bd6-5b5b-4f30-9d2b-a3c69e18d3b0",
   "metadata": {},
   "outputs": [
    {
     "data": {
      "text/plain": [
       "tensor([[0.7886, 0.5895, 0.7539,  ..., 0.9313, 0.6453, 0.9844],\n",
       "        [0.8312, 0.8682, 0.9359,  ..., 0.4046, 0.9987, 0.8608],\n",
       "        [0.1268, 0.2253, 0.1223,  ..., 0.3939, 0.4493, 0.5327],\n",
       "        ...,\n",
       "        [0.5851, 0.5824, 0.8857,  ..., 0.3165, 0.4845, 0.3896],\n",
       "        [0.3348, 0.1535, 0.5840,  ..., 0.0285, 0.7444, 0.5193],\n",
       "        [0.4027, 0.7190, 0.3847,  ..., 0.9606, 0.6629, 0.0359]])"
      ]
     },
     "execution_count": 22,
     "metadata": {},
     "output_type": "execute_result"
    }
   ],
   "source": [
    "mat = torch.rand(5000, 5000)\n",
    "mat"
   ]
  },
  {
   "cell_type": "code",
   "execution_count": 23,
   "id": "47e6ddd2-6b22-4f56-b9cb-923a3bdb52ca",
   "metadata": {},
   "outputs": [
    {
     "name": "stdout",
     "output_type": "stream",
     "text": [
      "CPU times: user 4.86 s, sys: 46.1 ms, total: 4.9 s\n",
      "Wall time: 821 ms\n"
     ]
    },
    {
     "data": {
      "text/plain": [
       "tensor([[1697.6150, 1260.7886, 1260.5798,  ..., 1276.7966, 1265.4301,\n",
       "         1273.4854],\n",
       "        [1260.7886, 1655.7583, 1247.6844,  ..., 1256.2369, 1263.6820,\n",
       "         1263.9419],\n",
       "        [1260.5798, 1247.6844, 1658.2700,  ..., 1258.1453, 1267.2045,\n",
       "         1274.8801],\n",
       "        ...,\n",
       "        [1276.7966, 1256.2367, 1258.1453,  ..., 1704.4204, 1270.7224,\n",
       "         1275.9523],\n",
       "        [1265.4302, 1263.6820, 1267.2046,  ..., 1270.7224, 1686.0026,\n",
       "         1272.0712],\n",
       "        [1273.4852, 1263.9419, 1274.8801,  ..., 1275.9523, 1272.0712,\n",
       "         1699.9994]])"
      ]
     },
     "execution_count": 23,
     "metadata": {},
     "output_type": "execute_result"
    }
   ],
   "source": [
    "%%time\n",
    "torch.mm(mat.t(), mat)"
   ]
  },
  {
   "cell_type": "code",
   "execution_count": 24,
   "id": "2713ee0d-de15-4d78-96ef-b813423cc14b",
   "metadata": {},
   "outputs": [
    {
     "name": "stdout",
     "output_type": "stream",
     "text": [
      "GPU is not available!\n",
      "CPU times: user 1.75 ms, sys: 189 µs, total: 1.94 ms\n",
      "Wall time: 2.95 ms\n"
     ]
    }
   ],
   "source": [
    "%%time\n",
    "if torch.cuda.is_available():\n",
    "    mat = mat.cuda()\n",
    "    torch.mm(mat.t(), mat)\n",
    "else:\n",
    "    print('GPU is not available!')"
   ]
  },
  {
   "cell_type": "markdown",
   "id": "8b9a738d-1a1f-4c17-9372-30c5cc6d6748",
   "metadata": {},
   "source": [
    "### Exercise 1 [10 points]\n",
    "\n",
    "Implement the Sigmoid function on your own.\n",
    "\n",
    "$$\\sigma(x) = \\frac{1}{1 + \\exp(-x)}$$\n",
    "\n",
    "Note that you should not use existing PyTorch implementation.\n",
    "\n",
    "Hint: try `torch.exp()`."
   ]
  },
  {
   "cell_type": "code",
   "execution_count": 25,
   "id": "848d536b-e36b-42f4-b2a1-9f02186a0eb8",
   "metadata": {},
   "outputs": [],
   "source": [
    "def sigmoid(x):\n",
    "    return torch.div(1, 1 + torch.exp(-x))\n"
   ]
  },
  {
   "cell_type": "code",
   "execution_count": 26,
   "id": "5cc1e023-29a0-45f5-98f3-b7f5a67b30b2",
   "metadata": {},
   "outputs": [],
   "source": [
    "'''\n",
    "AUTOGRADER CELL. DO NOT MODIFY THIS.\n",
    "'''\n",
    "\n",
    "assert torch.allclose(sigmoid(torch.tensor([1.2])), torch.tensor([0.7685]), rtol=1e-2)\n",
    "assert torch.allclose(sigmoid(torch.tensor([0, 1.5])), torch.tensor([0.5000, 0.8176]), rtol=1e-2)"
   ]
  },
  {
   "cell_type": "markdown",
   "id": "fa6bfa5e-8256-40eb-bed5-4dd4c296356b",
   "metadata": {},
   "source": [
    "### Exercise 2 [10 points]\n",
    "\n",
    "Implement a Softmax function on your own.\n",
    "\n",
    "$$\\mathrm{softmax}(\\mathbf{X})_{ij} = \\frac{\\exp(\\mathbf{X}_{ij})}{\\sum_k \\exp(\\mathbf{X}_{ik})}$$\n",
    "\n",
    "Note that you should not use existing PyTorch implementation.\n",
    "\n",
    "Hint: try `torch.exp()` and `torch.sum()`."
   ]
  },
  {
   "cell_type": "code",
   "execution_count": 40,
   "id": "5526a4e1-22cb-43ca-8051-7e84b46d72f6",
   "metadata": {},
   "outputs": [],
   "source": [
    "def softmax(x):\n",
    "    return torch.exp(x) / torch.sum(torch.exp(x), dim=1, keepdims=True)"
   ]
  },
  {
   "cell_type": "code",
   "execution_count": 41,
   "id": "7723ba1a-527d-44c3-a911-37b57b8ac0d6",
   "metadata": {},
   "outputs": [
    {
     "data": {
      "text/plain": [
       "tensor([[0.3304, 0.3965, 0.2731],\n",
       "        [0.4523, 0.2515, 0.2962]])"
      ]
     },
     "execution_count": 41,
     "metadata": {},
     "output_type": "execute_result"
    }
   ],
   "source": [
    "X = torch.tensor([[0.2288, 0.4111, 0.0385], [0.6233, 0.0364, 0.1999]])\n",
    "\n",
    "softmax(X)"
   ]
  },
  {
   "cell_type": "code",
   "execution_count": 42,
   "id": "c1a533a4-b611-4380-a284-1e1042e88b43",
   "metadata": {},
   "outputs": [],
   "source": [
    "'''\n",
    "AUTOGRADER CELL. DO NOT MODIFY THIS.\n",
    "'''\n",
    "\n",
    "X = torch.tensor([[0.2288, 0.4111, 0.0385], [0.6233, 0.0364, 0.1999]])\n",
    "assert torch.allclose(softmax(X), torch.tensor([[0.3304, 0.3965, 0.2731], [0.4523, 0.2515, 0.2962]]), rtol=1e-2)"
   ]
  },
  {
   "cell_type": "markdown",
   "id": "f1491df7-f234-489e-a30a-e2730cd982da",
   "metadata": {},
   "source": [
    "### Exercise 3 [10 points]\n",
    "\n",
    "Implement a linear layer.\n",
    "\n",
    "$$\\mathbf{O} = \\mathbf{X}\\mathbf{W} + \\mathbf{b},$$\n",
    "\n",
    "where $\\mathbf{X}$ is the input feature, $\\mathbf{O}$ is the output feature, $\\mathbf{W}$ and $\\mathbf{b}$ are the weight parameters.\n",
    "\n",
    "Hint: try `torch.matmul()`."
   ]
  },
  {
   "cell_type": "code",
   "execution_count": 43,
   "id": "c12208d6-193c-431b-b6e0-abf55605b317",
   "metadata": {},
   "outputs": [],
   "source": [
    "def linear(X, W, b):\n",
    "    return torch.matmul(X, W) + b"
   ]
  },
  {
   "cell_type": "code",
   "execution_count": 44,
   "id": "35d4ae59-4d5a-43ed-9aa5-6272e55c4805",
   "metadata": {},
   "outputs": [],
   "source": [
    "'''\n",
    "AUTOGRADER CELL. DO NOT MODIFY THIS.\n",
    "'''\n",
    "\n",
    "X = torch.Tensor([[0.1, 0.2, 0.3]])\n",
    "W = torch.Tensor([[0.1, 0.2, 0.3]]).T\n",
    "b = torch.Tensor([-0.5])\n",
    "assert torch.allclose(linear(X, W, b), torch.Tensor([[-0.3600]]), rtol=1e-2)"
   ]
  },
  {
   "cell_type": "markdown",
   "id": "32214376-e086-4243-94a1-cb69238b513d",
   "metadata": {},
   "source": [
    "## 2. Loss\n",
    "\n",
    "When presented with some training data, our untrained network is likely not to give the correct answer. Loss function measures the degree of dissimilarity of obtained result to the target value, and it is the loss function that we want to minimize during training. To calculate the loss we make a prediction using the inputs of our given data sample and compare it against the true data label value."
   ]
  },
  {
   "cell_type": "markdown",
   "id": "8431e46c-c3e7-487f-9063-d09bc4298c4a",
   "metadata": {},
   "source": [
    "Common loss functions include `nn.MSELoss` (Mean Square Error) for regression tasks, and `nn.NLLLoss` (Negative Log Likelihood) for classification. `nn.CrossEntropyLoss` combines `nn.LogSoftmax` and `nn.NLLLoss`. `nn.BCELoss` is specially designed for binary classification."
   ]
  },
  {
   "cell_type": "markdown",
   "id": "79563af3-e409-4d73-b70a-5d91dc215e4e",
   "metadata": {},
   "source": [
    "**Mean Square Error**\n",
    "\n",
    "The most popular loss function in regression problems is the squared error. When our prediction for an example $i$ is $\\hat{y}^{(i)}$ and the corresponding true label is ${y}^{(i)}$, the squared error is given by:\n",
    "\n",
    "$$l^{(i)} = \\frac{1}{2} \\left(\\hat{y}^{(i)} - y^{(i)}\\right)^2.$$\n",
    "\n",
    "To measure the quality of a model on the entire dataset of $n$ examples, we simply average (or equivalently, sum) the losses on the training set.\n",
    "\n",
    "$$L =\\frac{1}{n}\\sum_{i=1}^n l^{(i)}.$$\n",
    "\n",
    "Let us see how to implement this."
   ]
  },
  {
   "cell_type": "code",
   "execution_count": 47,
   "id": "7ae5b3f9-6d3c-46af-940e-1edc4f969dde",
   "metadata": {},
   "outputs": [],
   "source": [
    "def squared_loss(y_hat, y):\n",
    "    return (1/2 * (y_hat - y)**2).mean()"
   ]
  },
  {
   "cell_type": "code",
   "execution_count": 48,
   "id": "f969edf1-5fbb-4ec3-a719-ad25c0d527a5",
   "metadata": {},
   "outputs": [
    {
     "data": {
      "text/plain": [
       "tensor(0.0550)"
      ]
     },
     "execution_count": 48,
     "metadata": {},
     "output_type": "execute_result"
    }
   ],
   "source": [
    "y_hat = torch.tensor([0.5, 0.8, 0.2])\n",
    "y = torch.tensor([1.0, 1.0, 0.0])\n",
    "squared_loss(y_hat, y)"
   ]
  },
  {
   "cell_type": "markdown",
   "id": "3e42bbe9-f080-4df4-b701-303788d4cc33",
   "metadata": {},
   "source": [
    "### Exercise 4 [10 points]\n",
    "\n",
    "Implement the cross-entropy loss function on your own.\n",
    "\n",
    "$$l^{(i)} = - \\sum_{j=1}^q y_j^{(i)} \\log \\hat{y}_j^{(i)},$$\n",
    "\n",
    "$$L =\\frac{1}{n}\\sum_{i=1}^n l^{(i)}.$$\n",
    "\n",
    "where $\\mathbf{y}^{(i)}$ is a one-hot vector of length $q$, the sum over all its coordinates $j$ vanishes for all but one term.\n",
    "\n",
    "Note that you should not use existing PyTorch implementation.\n",
    "\n",
    "Hint: try `torch.log()`."
   ]
  },
  {
   "cell_type": "code",
   "execution_count": 57,
   "id": "8bf7c2e7-9e1c-4a58-8cff-0e7b1e3c84e1",
   "metadata": {},
   "outputs": [],
   "source": [
    "def cross_entropy(y_hat, y):\n",
    "    l = - torch.sum(torch.mul(y, torch.log(y_hat)), dim=1, keepdims=True)\n",
    "    return torch.sum(l) * 1/len(y)"
   ]
  },
  {
   "cell_type": "code",
   "execution_count": 58,
   "id": "394fa9a3-3d4c-4418-ab31-e7ae870d80bb",
   "metadata": {},
   "outputs": [
    {
     "data": {
      "text/plain": [
       "tensor(1.4979)"
      ]
     },
     "execution_count": 58,
     "metadata": {},
     "output_type": "execute_result"
    }
   ],
   "source": [
    "y = torch.tensor([[1, 0, 0], [0, 0, 1]])\n",
    "y_hat = torch.tensor([[0.1, 0.3, 0.6], [0.3, 0.2, 0.5]])\n",
    "\n",
    "cross_entropy(y_hat, y)"
   ]
  },
  {
   "cell_type": "code",
   "execution_count": 59,
   "id": "edac8dbd-3f25-4adf-aac0-84c94179e6a3",
   "metadata": {},
   "outputs": [],
   "source": [
    "'''\n",
    "AUTOGRADER CELL. DO NOT MODIFY THIS.\n",
    "'''\n",
    "\n",
    "y = torch.tensor([[1, 0, 0], [0, 0, 1]])\n",
    "y_hat = torch.tensor([[0.1, 0.3, 0.6], [0.3, 0.2, 0.5]])\n",
    "assert torch.allclose(cross_entropy(y_hat, y), torch.tensor([1.4979]), rtol=1e-2)"
   ]
  },
  {
   "cell_type": "markdown",
   "id": "ad1f820a-fa4b-4f10-8eab-0ebd009e9f65",
   "metadata": {},
   "source": [
    "## 3. Autograd\n",
    "\n",
    "When training the model, we want to find parameters (denoted as $\\Theta$) that minimize the total loss across all training examples:\n",
    "\n",
    "$$\\Theta = \\operatorname*{argmin}_{\\Theta}\\  L(\\Theta).$$\n",
    "\n",
    "To do this, we will iteratively reduce the error by updating the parameters in the direction that incrementally lowers the loss function. This algorithm is called gradient descent. The most naive application of gradient descent consists of taking the derivative of the loss function. Let us see how to do this.\n",
    "\n",
    "As a toy example, say that we are interested in differentiating the function $y = 2 \\mathbf{x}^\\top \\mathbf{x}$ with respect to the column vector $\\mathbf{x}$. To start, let us create the variable x and assign it an initial value."
   ]
  },
  {
   "cell_type": "code",
   "execution_count": 60,
   "id": "1ecb9c90-7cbc-4a2f-b06a-d820417f2edc",
   "metadata": {},
   "outputs": [
    {
     "data": {
      "text/plain": [
       "tensor([0., 1., 2., 3.])"
      ]
     },
     "execution_count": 60,
     "metadata": {},
     "output_type": "execute_result"
    }
   ],
   "source": [
    "x = torch.arange(4.0)\n",
    "x"
   ]
  },
  {
   "cell_type": "code",
   "execution_count": 61,
   "id": "0f451392-e691-46fb-952c-4e53f56fe246",
   "metadata": {},
   "outputs": [],
   "source": [
    "x.requires_grad_(True)  # Same as `x = torch.arange(4.0, requires_grad=True)`\n",
    "x.grad  # The default value is None"
   ]
  },
  {
   "cell_type": "markdown",
   "id": "10595d78-26c6-4e1b-abc3-294b349e1531",
   "metadata": {},
   "source": [
    "Now let us calculate $y$."
   ]
  },
  {
   "cell_type": "code",
   "execution_count": 62,
   "id": "e965e8b9-be5a-43c3-a8ea-ab88392337f4",
   "metadata": {},
   "outputs": [
    {
     "data": {
      "text/plain": [
       "tensor(28., grad_fn=<MulBackward0>)"
      ]
     },
     "execution_count": 62,
     "metadata": {},
     "output_type": "execute_result"
    }
   ],
   "source": [
    "y = 2 * torch.dot(x, x)\n",
    "y"
   ]
  },
  {
   "cell_type": "markdown",
   "id": "268736ce-0e4b-46ea-a426-9aa4484c6094",
   "metadata": {},
   "source": [
    "Since $\\mathbf{x}$ is a vector of length 4, an inner product of $\\mathbf{x}$ and $\\mathbf{x}$ is performed, yielding the scalar output that we assign to $y$. Next, we can automatically calculate the gradient of $y$ with respect to each component of $\\mathbf{x}$ by calling the function for backpropagation and printing the gradient."
   ]
  },
  {
   "cell_type": "code",
   "execution_count": 63,
   "id": "e5ff362b-6889-4dde-8393-ec0a6e42da10",
   "metadata": {},
   "outputs": [
    {
     "data": {
      "text/plain": [
       "tensor([ 0.,  4.,  8., 12.])"
      ]
     },
     "execution_count": 63,
     "metadata": {},
     "output_type": "execute_result"
    }
   ],
   "source": [
    "y.backward()\n",
    "x.grad"
   ]
  },
  {
   "cell_type": "markdown",
   "id": "ea492364-387e-4bbf-aa3b-6bdee64c59f2",
   "metadata": {},
   "source": [
    "The gradient of the function $y = 2\\mathbf{x}^{\\top}\\mathbf{x}$ with respect to $\\mathbf{x}$ should be $4\\mathbf{x}$. Let us quickly verify that our desired gradient was calculated correctly."
   ]
  },
  {
   "cell_type": "code",
   "execution_count": 64,
   "id": "85fb19cd-1f82-46e8-9fa4-6811daca78b4",
   "metadata": {},
   "outputs": [
    {
     "data": {
      "text/plain": [
       "tensor([True, True, True, True])"
      ]
     },
     "execution_count": 64,
     "metadata": {},
     "output_type": "execute_result"
    }
   ],
   "source": [
    "x.grad == 4 * x"
   ]
  },
  {
   "cell_type": "markdown",
   "id": "1013f960-081b-4d19-baca-cb133030c7ff",
   "metadata": {},
   "source": [
    "### Exercise 5 [10 points]\n",
    "\n",
    "Let  $f(x) = \\sin(x)$. Plot $f(x)$ and and $\\frac{df(x)}{dx}$, where the latter is computed without exploiting that $f'(x) = \\cos(x)$."
   ]
  },
  {
   "cell_type": "code",
   "execution_count": 65,
   "id": "8926b962-4597-4f8a-8071-fb34ccf3697f",
   "metadata": {},
   "outputs": [
    {
     "data": {
      "text/plain": [
       "[<matplotlib.lines.Line2D at 0x7f17848f7af0>]"
      ]
     },
     "execution_count": 65,
     "metadata": {},
     "output_type": "execute_result"
    },
    {
     "data": {
      "image/png": "[encoded data removed]",
      "text/plain": [
       "<Figure size 640x480 with 1 Axes>"
      ]
     },
     "metadata": {},
     "output_type": "display_data"
    }
   ],
   "source": [
    "x = np.linspace(-np.pi, np.pi, 100)\n",
    "x = torch.tensor(x, requires_grad=True)\n",
    "y = torch.sin(x)\n",
    "\n",
    "# your code here\n",
    "plt.plot(x.detach().numpy(), y.detach().numpy())\n",
    "\n",
    "external_grad = torch.ones(x.shape)\n",
    "y.backward(gradient=external_grad)\n",
    "\n",
    "plt.plot(x.detach().numpy(), x.grad.numpy())"
   ]
  },
  {
   "cell_type": "code",
   "execution_count": 66,
   "id": "a609a3e9-b30d-41fe-9c3a-ae8ab3755bbd",
   "metadata": {},
   "outputs": [],
   "source": [
    "'''\n",
    "AUTOGRADER CELL. DO NOT MODIFY THIS.\n",
    "'''\n",
    "\n",
    "assert torch.allclose(x.grad[10].float(), torch.Tensor([-0.8053]), rtol=1e-2)\n",
    "assert torch.allclose(x.grad[50].float(), torch.Tensor([0.9995]), rtol=1e-2)\n"
   ]
  },
  {
   "cell_type": "markdown",
   "id": "650484d6-f74c-4fad-a65d-370998360f7f",
   "metadata": {},
   "source": [
    "## Assignment [50 points]\n",
    "\n",
    "Now, you understand the basics of PyTorch. Let us implement an entire method from scratch, including the data pipeline, the linear model, the loss function, and the gradient descent optimizer. While modern deep learning frameworks can automate nearly all of this work, implementing things from scratch is the only way to make sure that you really know what you are doing. Moreover, when it comes time to customize models, defining our own layers or loss functions, understanding how things work under the hood will prove handy. In this section, we will rely only on tensors and auto differentiation. Afterwards, we will introduce a more concise implementation, taking advantage of bells and whistles of deep learning frameworks.\n",
    "\n",
    "To keep things simple, we will construct an artificial dataset according to a linear model with additive noise. Our task will be to recover this model’s parameters using the finite set of examples contained in our dataset. We will keep the data low-dimensional so we can visualize it easily. In the following code snippet, we generate a dataset containing 1000 examples, each consisting of 2 features sampled from a standard normal distribution. Thus our synthetic dataset will be a matrix  $\\mathbf{X} \\in \\mathbb{R}^{1000 \\times 2}$.\n",
    "\n",
    "The true parameters generating our dataset will be $\\mathbf{w} = [2, -3.4]^\\top$ and  $b = 4.2$, and our synthetic labels will be assigned according to the following linear model with the noise term $\\epsilon$:\n",
    "$$\\mathbf{y}= \\mathbf{X} \\mathbf{w} + b + \\mathbf\\epsilon.$$"
   ]
  },
  {
   "cell_type": "code",
   "execution_count": 67,
   "id": "649bf17f-cb1a-43c5-80e6-e81570181d55",
   "metadata": {},
   "outputs": [],
   "source": [
    "def synthetic_data(w, b, num_examples):\n",
    "    \"\"\"Generate y = Xw + b + noise.\"\"\"\n",
    "    X = torch.normal(0, 1, (num_examples, len(w)))\n",
    "    y = torch.matmul(X, w) + b\n",
    "    y += torch.normal(0, 0.01, y.shape)\n",
    "    return X, y.reshape((-1, 1))\n",
    "\n",
    "true_w = torch.tensor([2, -3.4])\n",
    "true_b = 4.2\n",
    "features, labels = synthetic_data(true_w, true_b, 1000)"
   ]
  },
  {
   "cell_type": "code",
   "execution_count": 68,
   "id": "ef702c39-4397-4fa3-809c-26649bd72c4d",
   "metadata": {},
   "outputs": [
    {
     "name": "stdout",
     "output_type": "stream",
     "text": [
      "features: tensor([-2.0928, -0.6196]) \n",
      "label: tensor([2.1172])\n"
     ]
    }
   ],
   "source": [
    "print('features:', features[0], '\\nlabel:', labels[0])"
   ]
  },
  {
   "cell_type": "markdown",
   "id": "86641837-e4cf-4d8a-93a5-f92f14c18020",
   "metadata": {},
   "source": [
    "### Reading the Dataset\n",
    "\n",
    "Recall that training models consists of making multiple passes over the dataset, grabbing one minibatch of examples at a time, and using them to update our model. Since this process is so fundamental to training machine learning algorithms, it is worth defining a utility function to shuffle the dataset and access it in minibatches.\n",
    "\n",
    "In the following code, we define the `data_iter` function to demonstrate one possible implementation of this functionality. The function takes a batch size, a matrix of features, and a vector of labels, yielding minibatches of the size batch_size. Each minibatch consists of a tuple of features and labels."
   ]
  },
  {
   "cell_type": "code",
   "execution_count": 69,
   "id": "2a19b9d1-6405-46dd-91ad-0a4b50711e76",
   "metadata": {},
   "outputs": [],
   "source": [
    "def data_iter(batch_size, features, labels):\n",
    "    num_examples = len(features)\n",
    "    indices = list(range(num_examples))\n",
    "    # The examples are read at random, in no particular order\n",
    "    random.shuffle(indices)\n",
    "    for i in range(0, num_examples, batch_size):\n",
    "        batch_indices = torch.tensor(indices[i:min(i + batch_size, num_examples)])\n",
    "        yield features[batch_indices], labels[batch_indices]"
   ]
  },
  {
   "cell_type": "markdown",
   "id": "456fcd9e-631a-4eb5-b28d-2b2a2b9d81cb",
   "metadata": {},
   "source": [
    "In general, note that we want to use reasonably sized minibatches to take advantage of the GPU hardware, which excels at parallelizing operations. Because each example can be fed through our models in parallel and the gradient of the loss function for each example can also be taken in parallel, GPUs allow us to process hundreds of examples in scarcely more time than it might take to process just a single example.\n",
    "\n",
    "To build some intuition, let us read and print the first small batch of data examples. The shape of the features in each minibatch tells us both the minibatch size and the number of input features. Likewise, our minibatch of labels will have a shape given by batch_size."
   ]
  },
  {
   "cell_type": "code",
   "execution_count": 70,
   "id": "540fde19-99e5-4f02-94ed-d994c69b40a0",
   "metadata": {},
   "outputs": [
    {
     "name": "stdout",
     "output_type": "stream",
     "text": [
      "tensor([[ 0.3328, -0.7500],\n",
      "        [-0.6873, -2.1948],\n",
      "        [ 1.1267,  0.1299],\n",
      "        [-0.8927,  0.8648],\n",
      "        [ 1.7361, -0.1677],\n",
      "        [-0.9680,  1.9231],\n",
      "        [ 1.0110,  0.3615],\n",
      "        [-0.2814,  0.4892],\n",
      "        [ 0.6248, -0.9218],\n",
      "        [ 0.2559, -0.4386]]) \n",
      " tensor([[ 7.4254],\n",
      "        [10.2802],\n",
      "        [ 6.0074],\n",
      "        [-0.5244],\n",
      "        [ 8.2466],\n",
      "        [-4.2738],\n",
      "        [ 4.9697],\n",
      "        [ 1.9719],\n",
      "        [ 8.5883],\n",
      "        [ 6.2239]])\n"
     ]
    }
   ],
   "source": [
    "batch_size = 10\n",
    "\n",
    "for X, y in data_iter(batch_size, features, labels):\n",
    "    print(X, '\\n', y)\n",
    "    break"
   ]
  },
  {
   "cell_type": "markdown",
   "id": "153b5281-a759-41ee-852b-db98a969fbcd",
   "metadata": {},
   "source": [
    "As we run the iteration, we obtain distinct minibatches successively until the entire dataset has been exhausted (try this). While the iteration implemented above is good for didactic purposes, it is inefficient in ways that might get us in trouble on real problems. For example, it requires that we load all the data in memory and that we perform lots of random memory access. The built-in iterators implemented in a deep learning framework are considerably more efficient and they can deal with both data stored in files and data fed via data streams."
   ]
  },
  {
   "cell_type": "markdown",
   "id": "0233e324-134a-4880-aafd-59a60e8172b1",
   "metadata": {},
   "source": [
    "### Initializing Model Parameters [10 points]\n",
    "\n",
    "Before we can begin optimizing our model’s parameters by minibatch stochastic gradient descent, we need to have some parameters in the first place. In the following code, we initialize weights by sampling random numbers from a normal distribution with mean 0 and a standard deviation of 0.01, and setting the bias to 0."
   ]
  },
  {
   "cell_type": "code",
   "execution_count": 71,
   "id": "e01deb3d-fb44-424d-b89f-b80e0f720948",
   "metadata": {},
   "outputs": [
    {
     "data": {
      "text/plain": [
       "tensor([0.], requires_grad=True)"
      ]
     },
     "execution_count": 71,
     "metadata": {},
     "output_type": "execute_result"
    }
   ],
   "source": [
    "w = None\n",
    "b = None\n",
    "\n",
    "# your code here\n",
    "w = torch.normal(0, 0.01, size=(2, 1))\n",
    "w.requires_grad_(True)\n",
    "\n",
    "b = torch.zeros(1)\n",
    "b.requires_grad_(True)"
   ]
  },
  {
   "cell_type": "code",
   "execution_count": 72,
   "id": "12bbeb4b-9008-435d-87fd-5e055d3fb806",
   "metadata": {},
   "outputs": [],
   "source": [
    "'''\n",
    "AUTOGRADER CELL. DO NOT MODIFY THIS.\n",
    "'''\n",
    "\n",
    "assert type(w) is torch.Tensor\n",
    "assert type(b) is torch.Tensor\n",
    "assert w.requires_grad\n",
    "assert b.requires_grad\n",
    "\n"
   ]
  },
  {
   "cell_type": "markdown",
   "id": "8e29ca7a-251b-4433-8dee-3fd83fb1ab43",
   "metadata": {},
   "source": [
    "### Defining the Model [10 points]\n",
    "\n",
    "Next, we must define our model, relating its inputs and parameters to its outputs. Recall that to calculate the output of the linear model, we simply take the matrix-vector dot product of the input features $\\mathbf{x}$ and the model weights $\\mathbf{w}$ , and add the offset $b$ to each example.\n",
    "\n",
    "This is exactly the same as what we implemented in Exercise 3."
   ]
  },
  {
   "cell_type": "code",
   "execution_count": 73,
   "id": "006260c3-428f-4adf-bc9f-75c1ec3975d1",
   "metadata": {},
   "outputs": [],
   "source": [
    "def linear(X, W, b):\n",
    "    # your code here\n",
    "    return torch.matmul(X, W) + b"
   ]
  },
  {
   "cell_type": "code",
   "execution_count": 74,
   "id": "84644fad-3b54-4717-8b6f-a18fb11988c0",
   "metadata": {},
   "outputs": [],
   "source": [
    "'''\n",
    "AUTOGRADER CELL. DO NOT MODIFY THIS.\n",
    "'''\n",
    "\n",
    "X_ = torch.Tensor([[0.1, 0.2, 0.3]])\n",
    "W_ = torch.Tensor([[0.1, 0.2, 0.3]]).T\n",
    "b_ = torch.Tensor([-0.5])\n",
    "assert torch.allclose(linear(X_, W_, b_), torch.Tensor([[-0.3600]]), rtol=1e-2)\n"
   ]
  },
  {
   "cell_type": "markdown",
   "id": "0d938e7e-7294-4303-be8a-908600e1524f",
   "metadata": {},
   "source": [
    "### Defining the Loss Function [10 points]\n",
    "\n",
    "Since updating our model requires taking the gradient of our loss function, we ought to define the loss function first. Here we will use the squared loss function."
   ]
  },
  {
   "cell_type": "code",
   "execution_count": 75,
   "id": "7ee8836f-c0b0-4a43-a4c7-46582a4c3ac2",
   "metadata": {},
   "outputs": [],
   "source": [
    "def squared_loss(y_hat, y):\n",
    "    # your code here\n",
    "    return ((y_hat - y)**2 / 2).mean()"
   ]
  },
  {
   "cell_type": "code",
   "execution_count": 76,
   "id": "4df9f204-25eb-4275-82c1-8c428b2e7ddd",
   "metadata": {},
   "outputs": [],
   "source": [
    "'''\n",
    "AUTOGRADER CELL. DO NOT MODIFY THIS.\n",
    "'''\n",
    "\n",
    "y = torch.tensor([2, 0.4, 1.1, 2.1])\n",
    "y_hat = torch.tensor([[2.1, 0.3, 1.2, 2.5]])\n",
    "assert torch.allclose(squared_loss(y_hat, y), torch.tensor([0.0238]), rtol=1e-2)\n"
   ]
  },
  {
   "cell_type": "markdown",
   "id": "b19da3b5-8180-47a9-a6bf-206b76749047",
   "metadata": {},
   "source": [
    "### Defining the Optimization Algorithm [10 points]\n",
    "\n",
    "Though linear regression has a closed-form solution, we will take this opportunity to introduce your first working example of minibatch stochastic gradient descent.\n",
    "\n",
    "At each step, using one minibatch randomly drawn from our dataset, we will estimate the gradient of the loss with respect to our parameters. Next, we will update our parameters in the direction that may reduce the loss. The following code applies the minibatch stochastic gradient descent update, given a set of parameters, a learning rate, and a batch size. The size of the update step is determined by the learning rate lr. Because our loss is calculated as a sum over the minibatch of examples, we normalize our step size by the batch size (batch_size), so that the magnitude of a typical step size does not depend heavily on our choice of the batch size."
   ]
  },
  {
   "cell_type": "code",
   "execution_count": 77,
   "id": "e86d0441-1c41-4d82-88a3-652b3803c7eb",
   "metadata": {},
   "outputs": [],
   "source": [
    "def sgd(params, lr, batch_size):\n",
    "    \"\"\"  Minibatch stochastic gradient descent \"\"\"\n",
    "    lr = lr / batch_size\n",
    "    with torch.no_grad():\n",
    "        for param in params:\n",
    "            \"\"\"\n",
    "            TODO: perform a step gradient descent \n",
    "                  param = param - lr * grad\n",
    "            \"\"\"\n",
    "            # your code here\n",
    "            param -= lr * param.grad\n",
    "            \n",
    "            param.grad.zero_()"
   ]
  },
  {
   "cell_type": "code",
   "execution_count": 78,
   "id": "d0cb4128-c8fb-47ea-811b-059423351c08",
   "metadata": {},
   "outputs": [],
   "source": [
    "'''\n",
    "AUTOGRADER CELL. DO NOT MODIFY THIS.\n",
    "'''\n",
    "\n",
    "m = torch.ones(1, requires_grad=True)\n",
    "n = 2 * m\n",
    "n.backward()\n",
    "sgd([m], lr=0.1, batch_size=1)\n",
    "assert torch.allclose(m, torch.tensor([0.8000]), rtol=1e-2)\n"
   ]
  },
  {
   "cell_type": "markdown",
   "id": "5df9bb95-3e26-4210-a111-560b6c1cdc85",
   "metadata": {},
   "source": [
    "### Training [10 points]\n",
    "\n",
    "Now that we have all of the parts in place, we are ready to implement the main training loop. It is crucial that you understand this code because you will see nearly identical training loops over and over again throughout your career in deep learning.\n",
    "\n",
    "In each iteration, we will grab a minibatch of training examples, and pass them through our model to obtain a set of predictions. After calculating the loss, we initiate the backwards pass through the network, storing the gradients with respect to each parameter. Finally, we will call the optimization algorithm sgd to update the model parameters.\n",
    "\n",
    "In summary, we will execute the following loop:\n"
   ]
  },
  {
   "cell_type": "code",
   "execution_count": 79,
   "id": "6ca154b8-4bdb-4017-98f8-42b3526bcb6c",
   "metadata": {},
   "outputs": [
    {
     "name": "stdout",
     "output_type": "stream",
     "text": [
      "epoch 1, loss 9.092969\n",
      "epoch 2, loss 5.020796\n",
      "epoch 3, loss 2.772642\n",
      "epoch 4, loss 1.531447\n",
      "epoch 5, loss 0.845981\n",
      "epoch 6, loss 0.467391\n",
      "epoch 7, loss 0.258277\n",
      "epoch 8, loss 0.142748\n",
      "epoch 9, loss 0.078918\n",
      "epoch 10, loss 0.043648\n",
      "epoch 11, loss 0.024154\n",
      "epoch 12, loss 0.013378\n",
      "epoch 13, loss 0.007419\n",
      "epoch 14, loss 0.004126\n",
      "epoch 15, loss 0.002304\n",
      "epoch 16, loss 0.001297\n",
      "epoch 17, loss 0.000740\n",
      "epoch 18, loss 0.000431\n",
      "epoch 19, loss 0.000261\n",
      "epoch 20, loss 0.000166\n"
     ]
    }
   ],
   "source": [
    "lr = 0.03\n",
    "num_epochs = 20\n",
    "net = linear\n",
    "loss = squared_loss\n",
    "\n",
    "for epoch in range(num_epochs):\n",
    "    for X, y in data_iter(batch_size, features, labels):\n",
    "        l = loss(net(X, w, b), y)  # Minibatch loss in `X` and `y`\n",
    "        # Compute gradient on `l` with respect to [`w`, `b`]\n",
    "        l.backward()\n",
    "        sgd([w, b], lr, batch_size)  # Update parameters using their gradient\n",
    "    with torch.no_grad():\n",
    "        train_l = loss(net(features, w, b), labels)\n",
    "        print(f'epoch {epoch + 1}, loss {float(train_l.mean()):f}')"
   ]
  },
  {
   "cell_type": "code",
   "execution_count": 80,
   "id": "dee22f91-d0cc-482e-be03-a5ec0652e6f1",
   "metadata": {},
   "outputs": [
    {
     "name": "stdout",
     "output_type": "stream",
     "text": [
      "error in estimating w: tensor([ 0.0069, -0.0080], grad_fn=<SubBackward0>)\n",
      "error in estimating b: tensor([0.0106], grad_fn=<RsubBackward1>)\n"
     ]
    }
   ],
   "source": [
    "print(f'error in estimating w: {true_w - w.reshape(true_w.shape)}')\n",
    "print(f'error in estimating b: {true_b - b}')"
   ]
  },
  {
   "cell_type": "code",
   "execution_count": 81,
   "id": "e9012562-0012-43aa-88c7-2b893fa42bda",
   "metadata": {},
   "outputs": [],
   "source": [
    "'''\n",
    "AUTOGRADER CELL. DO NOT MODIFY THIS.\n",
    "'''\n",
    "\n",
    "assert (true_w - w.reshape(true_w.shape)).abs().mean() < 0.05\n",
    "assert (true_b - b).abs() < 0.05\n"
   ]
  },
  {
   "cell_type": "code",
   "execution_count": null,
   "id": "f5bef340-fbd2-4b12-b375-dd3e2ef43654",
   "metadata": {},
   "outputs": [],
   "source": []
  }
 ],
 "metadata": {
  "kernelspec": {
   "display_name": "Python 3 (ipykernel)",
   "language": "python",
   "name": "python3"
  },
  "language_info": {
   "codemirror_mode": {
    "name": "ipython",
    "version": 3
   },
   "file_extension": ".py",
   "mimetype": "text/x-python",
   "name": "python",
   "nbconvert_exporter": "python",
   "pygments_lexer": "ipython3",
   "version": "3.10.12"
  }
 },
 "nbformat": 4,
 "nbformat_minor": 5
}
